{
 "cells": [
  {
   "cell_type": "markdown",
   "metadata": {
    "collapsed": true
   },
   "source": [
    "Students Exam Scores: Extended Dataset | Kaggle\n",
    "https://www.kaggle.com/datasets/desalegngeb/students-exam-scores"
   ]
  },
  {
   "cell_type": "markdown",
   "metadata": {},
   "source": [
    "Проаналізуйте розподіл за статтю серед учнів.\n",
    "1. Скільки студентів і студенток у наборі даних?\n",
    "2. Який відсоток студентів чоловічої статі в наборі даних?\n",
    "3. Який відсоток студенток у наборі даних?"
   ]
  },
  {
   "cell_type": "code",
   "execution_count": 3,
   "metadata": {},
   "outputs": [],
   "source": [
    "import pandas as pd\n",
    "\n",
    "# Path to your CSV file\n",
    "file_path = 'Expanded_data_with_more_features.csv'\n",
    "\n",
    "# Load the dataset\n",
    "data = pd.read_csv(file_path)"
   ]
  },
  {
   "cell_type": "code",
   "execution_count": 5,
   "metadata": {},
   "outputs": [
    {
     "data": {
      "text/plain": [
       "(Gender\n",
       " female    15424\n",
       " male      15217\n",
       " Name: count, dtype: int64,\n",
       " 49.6622172905584,\n",
       " 50.337782709441605)"
      ]
     },
     "execution_count": 5,
     "metadata": {},
     "output_type": "execute_result"
    }
   ],
   "source": [
    "gender_counts = data['Gender'].value_counts()\n",
    "\n",
    "total_students = len(data)\n",
    "percent_male = (gender_counts.get('male', 0) / total_students) * 100\n",
    "percent_female = (gender_counts.get('female', 0) / total_students) * 100\n",
    "\n",
    "gender_counts, percent_male, percent_female"
   ]
  },
  {
   "cell_type": "markdown",
   "metadata": {},
   "source": [
    "Дослідіть зв’язок між етнічною групою та результатами тестів.\n",
    "\n",
    "4. Яка етнічна група має найвищий середній бал з математики?\n",
    "5. Яка етнічна група має найвищий середній бал читання?\n",
    "6. Яка етнічна група має найвищий середній бал з письма?"
   ]
  },
  {
   "cell_type": "code",
   "execution_count": 11,
   "metadata": {},
   "outputs": [
    {
     "data": {
      "text/html": [
       "<div>\n",
       "<style scoped>\n",
       "    .dataframe tbody tr th:only-of-type {\n",
       "        vertical-align: middle;\n",
       "    }\n",
       "\n",
       "    .dataframe tbody tr th {\n",
       "        vertical-align: top;\n",
       "    }\n",
       "\n",
       "    .dataframe thead th {\n",
       "        text-align: right;\n",
       "    }\n",
       "</style>\n",
       "<table border=\"1\" class=\"dataframe\">\n",
       "  <thead>\n",
       "    <tr style=\"text-align: right;\">\n",
       "      <th></th>\n",
       "      <th>MathScore</th>\n",
       "      <th>ReadingScore</th>\n",
       "      <th>WritingScore</th>\n",
       "    </tr>\n",
       "    <tr>\n",
       "      <th>EthnicGroup</th>\n",
       "      <th></th>\n",
       "      <th></th>\n",
       "      <th></th>\n",
       "    </tr>\n",
       "  </thead>\n",
       "  <tbody>\n",
       "    <tr>\n",
       "      <th>group A</th>\n",
       "      <td>62.991888</td>\n",
       "      <td>66.787742</td>\n",
       "      <td>65.251915</td>\n",
       "    </tr>\n",
       "    <tr>\n",
       "      <th>group B</th>\n",
       "      <td>63.490216</td>\n",
       "      <td>67.320460</td>\n",
       "      <td>65.895125</td>\n",
       "    </tr>\n",
       "    <tr>\n",
       "      <th>group C</th>\n",
       "      <td>64.695723</td>\n",
       "      <td>68.438233</td>\n",
       "      <td>66.999240</td>\n",
       "    </tr>\n",
       "    <tr>\n",
       "      <th>group D</th>\n",
       "      <td>67.666400</td>\n",
       "      <td>70.382247</td>\n",
       "      <td>70.890844</td>\n",
       "    </tr>\n",
       "    <tr>\n",
       "      <th>group E</th>\n",
       "      <td>75.298936</td>\n",
       "      <td>74.251423</td>\n",
       "      <td>72.677060</td>\n",
       "    </tr>\n",
       "  </tbody>\n",
       "</table>\n",
       "</div>"
      ],
      "text/plain": [
       "             MathScore  ReadingScore  WritingScore\n",
       "EthnicGroup                                       \n",
       "group A      62.991888     66.787742     65.251915\n",
       "group B      63.490216     67.320460     65.895125\n",
       "group C      64.695723     68.438233     66.999240\n",
       "group D      67.666400     70.382247     70.890844\n",
       "group E      75.298936     74.251423     72.677060"
      ]
     },
     "execution_count": 11,
     "metadata": {},
     "output_type": "execute_result"
    }
   ],
   "source": [
    "filtered_data = data.dropna(subset=['EthnicGroup'])\n",
    "\n",
    "average_scores_by_ethnic_group = filtered_data.groupby('EthnicGroup')[['MathScore', 'ReadingScore', 'WritingScore']].mean()\n",
    "\n",
    "average_scores_by_ethnic_group"
   ]
  },
  {
   "cell_type": "code",
   "execution_count": 13,
   "metadata": {},
   "outputs": [
    {
     "data": {
      "text/plain": [
       "('group E', 'group E', 'group E')"
      ]
     },
     "execution_count": 13,
     "metadata": {},
     "output_type": "execute_result"
    }
   ],
   "source": [
    "highest_math_group = average_scores_by_ethnic_group['MathScore'].idxmax()\n",
    "highest_reading_group = average_scores_by_ethnic_group['ReadingScore'].idxmax()\n",
    "highest_writing_group = average_scores_by_ethnic_group['WritingScore'].idxmax()\n",
    "\n",
    "highest_math_group, highest_reading_group, highest_writing_group"
   ]
  },
  {
   "cell_type": "markdown",
   "metadata": {},
   "source": [
    "Дослідіть вплив курсу підготовки до тесту на результати тесту.\n",
    "\n",
    "7. Який середній бал з математики для студентів, які закінчили курс підготовки до тесту?\n",
    "8. Який середній бал з читання для студентів, які пройшли курс підготовки до тесту?\n",
    "9. Який середній бал для студентів, які закінчили курс підготовки до тесту?"
   ]
  },
  {
   "cell_type": "code",
   "execution_count": 14,
   "metadata": {},
   "outputs": [
    {
     "data": {
      "text/plain": [
       "MathScore       69.546660\n",
       "ReadingScore    73.732998\n",
       "WritingScore    74.703265\n",
       "dtype: float64"
      ]
     },
     "execution_count": 14,
     "metadata": {},
     "output_type": "execute_result"
    }
   ],
   "source": [
    "test_prep_completed = data[data['TestPrep'] == 'completed']\n",
    "\n",
    "average_scores_test_prep = test_prep_completed[['MathScore', 'ReadingScore', 'WritingScore']].mean()\n",
    "\n",
    "average_scores_test_prep"
   ]
  },
  {
   "cell_type": "markdown",
   "metadata": {},
   "source": [
    "Проаналізуйте розподіл батьків(ів) за сімейним станом серед учнів.\n",
    "\n",
    "10. Скільки студентів мають одружених батьків?\n",
    "11. Скільки студентів мають батьків-одинаків?"
   ]
  },
  {
   "cell_type": "code",
   "execution_count": 15,
   "metadata": {},
   "outputs": [
    {
     "data": {
      "text/plain": [
       "ParentMaritalStatus\n",
       "married    16844\n",
       "single      7097\n",
       "Name: count, dtype: int64"
      ]
     },
     "execution_count": 15,
     "metadata": {},
     "output_type": "execute_result"
    }
   ],
   "source": [
    "parental_marital_status_counts = data['ParentMaritalStatus'].value_counts()\n",
    "\n",
    "parental_marital_status_counts[['married', 'single']]"
   ]
  },
  {
   "cell_type": "markdown",
   "metadata": {},
   "source": [
    "Дослідіть зв’язок між заняттями спортом і результатами тестів.\n",
    "\n",
    "12. Чи студенти, які регулярно займаються спортом, мають вищі середні результати з математики, ніж ті, хто ніколи не       займається спортом?\n",
    "13. Чи студенти, які регулярно займаються спортом, мають вищі середні результати читання, ніж ті, хто ніколи не займається спортом?"
   ]
  },
  {
   "cell_type": "code",
   "execution_count": 16,
   "metadata": {},
   "outputs": [
    {
     "data": {
      "text/plain": [
       "(MathScore       67.839155\n",
       " ReadingScore    69.943019\n",
       " dtype: float64,\n",
       " MathScore       64.171079\n",
       " ReadingScore    68.337662\n",
       " dtype: float64)"
      ]
     },
     "execution_count": 16,
     "metadata": {},
     "output_type": "execute_result"
    }
   ],
   "source": [
    "regularly_sports = data[data['PracticeSport'] == 'regularly']\n",
    "never_sports = data[data['PracticeSport'] == 'never']\n",
    "\n",
    "average_scores_regularly_sports = regularly_sports[['MathScore', 'ReadingScore']].mean()\n",
    "average_scores_never_sports = never_sports[['MathScore', 'ReadingScore']].mean()\n",
    "\n",
    "average_scores_regularly_sports, average_scores_never_sports"
   ]
  },
  {
   "cell_type": "markdown",
   "metadata": {},
   "source": [
    "Проаналізуйте розподіл транспортних засобів до школи серед учнів.\n",
    "\n",
    "14. Скільки учнів користується шкільним автобусом, щоб дістатися до школи?\n",
    "15. Скільки учнів користується приватним транспортом, щоб дістатися до школи?"
   ]
  },
  {
   "cell_type": "code",
   "execution_count": 17,
   "metadata": {},
   "outputs": [
    {
     "data": {
      "text/plain": [
       "TransportMeans\n",
       "school_bus    16145\n",
       "private       11362\n",
       "Name: count, dtype: int64"
      ]
     },
     "execution_count": 17,
     "metadata": {},
     "output_type": "execute_result"
    }
   ],
   "source": [
    "transportation_counts = data['TransportMeans'].value_counts()\n",
    "\n",
    "transportation_counts"
   ]
  },
  {
   "cell_type": "markdown",
   "metadata": {},
   "source": [
    "Задача класифікації\n",
    "Передбачте, чи завершив студент курс підготовки до іспиту, на основі його демографічних та академічних даних.\n",
    "\n",
    "Вхідні дані:\n",
    "Gender, EthnicGroup, ParentEduc, LunchType, ParentMaritalStatus, PracticeSport, IsFirstChild, NrSiblings,       TransportMeans, WklyStudyHours, MathScore, ReadingScore, WritingScore\n",
    "\n",
    "Результат: TestPrep"
   ]
  },
  {
   "cell_type": "code",
   "execution_count": 18,
   "metadata": {},
   "outputs": [
    {
     "name": "stdout",
     "output_type": "stream",
     "text": [
      "              precision    recall  f1-score   support\n",
      "\n",
      "           0       0.77      0.87      0.82      6006\n",
      "           1       0.67      0.50      0.57      3187\n",
      "\n",
      "    accuracy                           0.74      9193\n",
      "   macro avg       0.72      0.68      0.69      9193\n",
      "weighted avg       0.73      0.74      0.73      9193\n",
      "\n"
     ]
    }
   ],
   "source": [
    "from sklearn.model_selection import train_test_split\n",
    "from sklearn.preprocessing import OneHotEncoder\n",
    "from sklearn.compose import ColumnTransformer\n",
    "from sklearn.pipeline import Pipeline\n",
    "from sklearn.impute import SimpleImputer\n",
    "from sklearn.linear_model import LogisticRegression\n",
    "from sklearn.metrics import classification_report\n",
    "\n",
    "\n",
    "data.fillna(method='ffill', inplace=True)\n",
    "\n",
    "X = data[['Gender', 'EthnicGroup', 'ParentEduc', 'LunchType', 'ParentMaritalStatus', 'PracticeSport', 'IsFirstChild', 'NrSiblings', 'TransportMeans', 'WklyStudyHours', 'MathScore', 'ReadingScore', 'WritingScore']]\n",
    "y = data['TestPrep'].apply(lambda x: 1 if x == 'completed' else 0)\n",
    "\n",
    "X_train, X_test, y_train, y_test = train_test_split(X, y, test_size=0.3, random_state=42)\n",
    "\n",
    "categorical_features = X.select_dtypes(include=['object']).columns.tolist()\n",
    "numeric_features = X.select_dtypes(include=['int', 'float']).columns.tolist()\n",
    "\n",
    "preprocessor = ColumnTransformer(\n",
    "    transformers=[\n",
    "        ('num', SimpleImputer(strategy='median'), numeric_features),\n",
    "        ('cat', OneHotEncoder(), categorical_features)\n",
    "    ])\n",
    "\n",
    "clf = Pipeline(steps=[('preprocessor', preprocessor),\n",
    "                      ('classifier', LogisticRegression(max_iter=1000))])\n",
    "\n",
    "clf.fit(X_train, y_train)\n",
    "y_pred = clf.predict(X_test)\n",
    "\n",
    "print(classification_report(y_test, y_pred))"
   ]
  },
  {
   "cell_type": "code",
   "execution_count": null,
   "metadata": {},
   "outputs": [],
   "source": []
  }
 ],
 "metadata": {
  "kernelspec": {
   "display_name": "Python 3 (ipykernel)",
   "language": "python",
   "name": "python3"
  },
  "language_info": {
   "codemirror_mode": {
    "name": "ipython",
    "version": 3
   },
   "file_extension": ".py",
   "mimetype": "text/x-python",
   "name": "python",
   "nbconvert_exporter": "python",
   "pygments_lexer": "ipython3",
   "version": "3.11.5"
  }
 },
 "nbformat": 4,
 "nbformat_minor": 1
}
