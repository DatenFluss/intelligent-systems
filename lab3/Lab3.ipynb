{
 "cells": [
  {
   "cell_type": "markdown",
   "id": "eb5ce65e",
   "metadata": {},
   "source": [
    "## All tasks from the textbook"
   ]
  },
  {
   "cell_type": "markdown",
   "id": "df2c6031",
   "metadata": {},
   "source": [
    "## Task 1\n",
    "\n",
    "8 first entries"
   ]
  },
  {
   "cell_type": "code",
   "execution_count": 2,
   "id": "bca85198",
   "metadata": {},
   "outputs": [
    {
     "data": {
      "text/html": [
       "<div>\n",
       "<style scoped>\n",
       "    .dataframe tbody tr th:only-of-type {\n",
       "        vertical-align: middle;\n",
       "    }\n",
       "\n",
       "    .dataframe tbody tr th {\n",
       "        vertical-align: top;\n",
       "    }\n",
       "\n",
       "    .dataframe thead th {\n",
       "        text-align: right;\n",
       "    }\n",
       "</style>\n",
       "<table border=\"1\" class=\"dataframe\">\n",
       "  <thead>\n",
       "    <tr style=\"text-align: right;\">\n",
       "      <th></th>\n",
       "      <th>Id</th>\n",
       "      <th>Name</th>\n",
       "      <th>Year</th>\n",
       "      <th>Gender</th>\n",
       "      <th>Count</th>\n",
       "    </tr>\n",
       "  </thead>\n",
       "  <tbody>\n",
       "    <tr>\n",
       "      <th>0</th>\n",
       "      <td>1</td>\n",
       "      <td>Mary</td>\n",
       "      <td>1880</td>\n",
       "      <td>F</td>\n",
       "      <td>7065</td>\n",
       "    </tr>\n",
       "    <tr>\n",
       "      <th>1</th>\n",
       "      <td>2</td>\n",
       "      <td>Anna</td>\n",
       "      <td>1880</td>\n",
       "      <td>F</td>\n",
       "      <td>2604</td>\n",
       "    </tr>\n",
       "    <tr>\n",
       "      <th>2</th>\n",
       "      <td>3</td>\n",
       "      <td>Emma</td>\n",
       "      <td>1880</td>\n",
       "      <td>F</td>\n",
       "      <td>2003</td>\n",
       "    </tr>\n",
       "    <tr>\n",
       "      <th>3</th>\n",
       "      <td>4</td>\n",
       "      <td>Elizabeth</td>\n",
       "      <td>1880</td>\n",
       "      <td>F</td>\n",
       "      <td>1939</td>\n",
       "    </tr>\n",
       "    <tr>\n",
       "      <th>4</th>\n",
       "      <td>5</td>\n",
       "      <td>Minnie</td>\n",
       "      <td>1880</td>\n",
       "      <td>F</td>\n",
       "      <td>1746</td>\n",
       "    </tr>\n",
       "    <tr>\n",
       "      <th>5</th>\n",
       "      <td>6</td>\n",
       "      <td>Margaret</td>\n",
       "      <td>1880</td>\n",
       "      <td>F</td>\n",
       "      <td>1578</td>\n",
       "    </tr>\n",
       "    <tr>\n",
       "      <th>6</th>\n",
       "      <td>7</td>\n",
       "      <td>Ida</td>\n",
       "      <td>1880</td>\n",
       "      <td>F</td>\n",
       "      <td>1472</td>\n",
       "    </tr>\n",
       "    <tr>\n",
       "      <th>7</th>\n",
       "      <td>8</td>\n",
       "      <td>Alice</td>\n",
       "      <td>1880</td>\n",
       "      <td>F</td>\n",
       "      <td>1414</td>\n",
       "    </tr>\n",
       "  </tbody>\n",
       "</table>\n",
       "</div>"
      ],
      "text/plain": [
       "   Id       Name  Year Gender  Count\n",
       "0   1       Mary  1880      F   7065\n",
       "1   2       Anna  1880      F   2604\n",
       "2   3       Emma  1880      F   2003\n",
       "3   4  Elizabeth  1880      F   1939\n",
       "4   5     Minnie  1880      F   1746\n",
       "5   6   Margaret  1880      F   1578\n",
       "6   7        Ida  1880      F   1472\n",
       "7   8      Alice  1880      F   1414"
      ]
     },
     "execution_count": 2,
     "metadata": {},
     "output_type": "execute_result"
    }
   ],
   "source": [
    "import pandas as pd\n",
    "import numpy as np\n",
    "\n",
    "data = pd.read_csv('NationalNames.csv')\n",
    "\n",
    "data.head(8)"
   ]
  },
  {
   "cell_type": "markdown",
   "id": "98e48d40",
   "metadata": {},
   "source": [
    "## Task 2\n",
    "\n",
    "last 8 entries"
   ]
  },
  {
   "cell_type": "code",
   "execution_count": 3,
   "id": "203d0970",
   "metadata": {},
   "outputs": [
    {
     "data": {
      "text/html": [
       "<div>\n",
       "<style scoped>\n",
       "    .dataframe tbody tr th:only-of-type {\n",
       "        vertical-align: middle;\n",
       "    }\n",
       "\n",
       "    .dataframe tbody tr th {\n",
       "        vertical-align: top;\n",
       "    }\n",
       "\n",
       "    .dataframe thead th {\n",
       "        text-align: right;\n",
       "    }\n",
       "</style>\n",
       "<table border=\"1\" class=\"dataframe\">\n",
       "  <thead>\n",
       "    <tr style=\"text-align: right;\">\n",
       "      <th></th>\n",
       "      <th>Id</th>\n",
       "      <th>Name</th>\n",
       "      <th>Year</th>\n",
       "      <th>Gender</th>\n",
       "      <th>Count</th>\n",
       "    </tr>\n",
       "  </thead>\n",
       "  <tbody>\n",
       "    <tr>\n",
       "      <th>1825425</th>\n",
       "      <td>1825426</td>\n",
       "      <td>Zo</td>\n",
       "      <td>2014</td>\n",
       "      <td>M</td>\n",
       "      <td>5</td>\n",
       "    </tr>\n",
       "    <tr>\n",
       "      <th>1825426</th>\n",
       "      <td>1825427</td>\n",
       "      <td>Zyeir</td>\n",
       "      <td>2014</td>\n",
       "      <td>M</td>\n",
       "      <td>5</td>\n",
       "    </tr>\n",
       "    <tr>\n",
       "      <th>1825427</th>\n",
       "      <td>1825428</td>\n",
       "      <td>Zyel</td>\n",
       "      <td>2014</td>\n",
       "      <td>M</td>\n",
       "      <td>5</td>\n",
       "    </tr>\n",
       "    <tr>\n",
       "      <th>1825428</th>\n",
       "      <td>1825429</td>\n",
       "      <td>Zykeem</td>\n",
       "      <td>2014</td>\n",
       "      <td>M</td>\n",
       "      <td>5</td>\n",
       "    </tr>\n",
       "    <tr>\n",
       "      <th>1825429</th>\n",
       "      <td>1825430</td>\n",
       "      <td>Zymeer</td>\n",
       "      <td>2014</td>\n",
       "      <td>M</td>\n",
       "      <td>5</td>\n",
       "    </tr>\n",
       "    <tr>\n",
       "      <th>1825430</th>\n",
       "      <td>1825431</td>\n",
       "      <td>Zymiere</td>\n",
       "      <td>2014</td>\n",
       "      <td>M</td>\n",
       "      <td>5</td>\n",
       "    </tr>\n",
       "    <tr>\n",
       "      <th>1825431</th>\n",
       "      <td>1825432</td>\n",
       "      <td>Zyran</td>\n",
       "      <td>2014</td>\n",
       "      <td>M</td>\n",
       "      <td>5</td>\n",
       "    </tr>\n",
       "    <tr>\n",
       "      <th>1825432</th>\n",
       "      <td>1825433</td>\n",
       "      <td>Zyrin</td>\n",
       "      <td>2014</td>\n",
       "      <td>M</td>\n",
       "      <td>5</td>\n",
       "    </tr>\n",
       "  </tbody>\n",
       "</table>\n",
       "</div>"
      ],
      "text/plain": [
       "              Id     Name  Year Gender  Count\n",
       "1825425  1825426       Zo  2014      M      5\n",
       "1825426  1825427    Zyeir  2014      M      5\n",
       "1825427  1825428     Zyel  2014      M      5\n",
       "1825428  1825429   Zykeem  2014      M      5\n",
       "1825429  1825430   Zymeer  2014      M      5\n",
       "1825430  1825431  Zymiere  2014      M      5\n",
       "1825431  1825432    Zyran  2014      M      5\n",
       "1825432  1825433    Zyrin  2014      M      5"
      ]
     },
     "execution_count": 3,
     "metadata": {},
     "output_type": "execute_result"
    }
   ],
   "source": [
    "data.tail(8)"
   ]
  },
  {
   "cell_type": "markdown",
   "id": "5f725e2d",
   "metadata": {},
   "source": [
    "## Task 3\n",
    "\n",
    "Column names"
   ]
  },
  {
   "cell_type": "code",
   "execution_count": 4,
   "id": "5ee454ee",
   "metadata": {},
   "outputs": [
    {
     "name": "stdout",
     "output_type": "stream",
     "text": [
      "Index(['Id', 'Name', 'Year', 'Gender', 'Count'], dtype='object')\n"
     ]
    }
   ],
   "source": [
    "print(data.columns)"
   ]
  },
  {
   "cell_type": "markdown",
   "id": "a5bf1fcc",
   "metadata": {},
   "source": [
    "## Task 4\n",
    "\n",
    "general statistical data"
   ]
  },
  {
   "cell_type": "code",
   "execution_count": 5,
   "id": "c51ef035",
   "metadata": {},
   "outputs": [
    {
     "data": {
      "text/html": [
       "<div>\n",
       "<style scoped>\n",
       "    .dataframe tbody tr th:only-of-type {\n",
       "        vertical-align: middle;\n",
       "    }\n",
       "\n",
       "    .dataframe tbody tr th {\n",
       "        vertical-align: top;\n",
       "    }\n",
       "\n",
       "    .dataframe thead th {\n",
       "        text-align: right;\n",
       "    }\n",
       "</style>\n",
       "<table border=\"1\" class=\"dataframe\">\n",
       "  <thead>\n",
       "    <tr style=\"text-align: right;\">\n",
       "      <th></th>\n",
       "      <th>Id</th>\n",
       "      <th>Year</th>\n",
       "      <th>Count</th>\n",
       "    </tr>\n",
       "  </thead>\n",
       "  <tbody>\n",
       "    <tr>\n",
       "      <th>count</th>\n",
       "      <td>1.825433e+06</td>\n",
       "      <td>1.825433e+06</td>\n",
       "      <td>1.825433e+06</td>\n",
       "    </tr>\n",
       "    <tr>\n",
       "      <th>mean</th>\n",
       "      <td>9.127170e+05</td>\n",
       "      <td>1.972620e+03</td>\n",
       "      <td>1.846879e+02</td>\n",
       "    </tr>\n",
       "    <tr>\n",
       "      <th>std</th>\n",
       "      <td>5.269573e+05</td>\n",
       "      <td>3.352891e+01</td>\n",
       "      <td>1.566711e+03</td>\n",
       "    </tr>\n",
       "    <tr>\n",
       "      <th>min</th>\n",
       "      <td>1.000000e+00</td>\n",
       "      <td>1.880000e+03</td>\n",
       "      <td>5.000000e+00</td>\n",
       "    </tr>\n",
       "    <tr>\n",
       "      <th>25%</th>\n",
       "      <td>4.563590e+05</td>\n",
       "      <td>1.949000e+03</td>\n",
       "      <td>7.000000e+00</td>\n",
       "    </tr>\n",
       "    <tr>\n",
       "      <th>50%</th>\n",
       "      <td>9.127170e+05</td>\n",
       "      <td>1.982000e+03</td>\n",
       "      <td>1.200000e+01</td>\n",
       "    </tr>\n",
       "    <tr>\n",
       "      <th>75%</th>\n",
       "      <td>1.369075e+06</td>\n",
       "      <td>2.001000e+03</td>\n",
       "      <td>3.200000e+01</td>\n",
       "    </tr>\n",
       "    <tr>\n",
       "      <th>max</th>\n",
       "      <td>1.825433e+06</td>\n",
       "      <td>2.014000e+03</td>\n",
       "      <td>9.968000e+04</td>\n",
       "    </tr>\n",
       "  </tbody>\n",
       "</table>\n",
       "</div>"
      ],
      "text/plain": [
       "                 Id          Year         Count\n",
       "count  1.825433e+06  1.825433e+06  1.825433e+06\n",
       "mean   9.127170e+05  1.972620e+03  1.846879e+02\n",
       "std    5.269573e+05  3.352891e+01  1.566711e+03\n",
       "min    1.000000e+00  1.880000e+03  5.000000e+00\n",
       "25%    4.563590e+05  1.949000e+03  7.000000e+00\n",
       "50%    9.127170e+05  1.982000e+03  1.200000e+01\n",
       "75%    1.369075e+06  2.001000e+03  3.200000e+01\n",
       "max    1.825433e+06  2.014000e+03  9.968000e+04"
      ]
     },
     "execution_count": 5,
     "metadata": {},
     "output_type": "execute_result"
    }
   ],
   "source": [
    "data.describe()"
   ]
  },
  {
   "cell_type": "markdown",
   "id": "7ccdf6ed",
   "metadata": {},
   "source": [
    "## Task 5\n",
    "\n",
    "number of unique names in a file"
   ]
  },
  {
   "cell_type": "code",
   "execution_count": 6,
   "id": "f48d04b5",
   "metadata": {},
   "outputs": [
    {
     "name": "stdout",
     "output_type": "stream",
     "text": [
      "93889\n"
     ]
    }
   ],
   "source": [
    "print(data['Name'].nunique())"
   ]
  },
  {
   "cell_type": "markdown",
   "id": "4fe260ab",
   "metadata": {},
   "source": [
    "## Task 6\n",
    "\n",
    "number of unique names by gender"
   ]
  },
  {
   "cell_type": "code",
   "execution_count": 7,
   "id": "45f78ce5",
   "metadata": {},
   "outputs": [
    {
     "name": "stdout",
     "output_type": "stream",
     "text": [
      "F: 64911\n",
      "M: 39199\n"
     ]
    }
   ],
   "source": [
    "unique_female_names = data[data['Gender'] == 'F']['Name'].nunique()\n",
    "unique_male_names = data[data['Gender'] == 'M']['Name'].nunique()\n",
    "\n",
    "print(f\"F: {unique_female_names}\")\n",
    "print(f\"M: {unique_male_names}\")"
   ]
  },
  {
   "cell_type": "markdown",
   "id": "27a87da7",
   "metadata": {},
   "source": [
    "## Task 7 \n",
    "\n",
    "5 most popular men name in 2010"
   ]
  },
  {
   "cell_type": "code",
   "execution_count": 8,
   "id": "7d2db53c",
   "metadata": {},
   "outputs": [
    {
     "name": "stdout",
     "output_type": "stream",
     "text": [
      "Name\n",
      "Jacob      22082\n",
      "Ethan      17985\n",
      "Michael    17308\n",
      "Jayden     17152\n",
      "William    17030\n",
      "Name: Count, dtype: int64\n"
     ]
    }
   ],
   "source": [
    "male_names_2010 = data[(data['Year'] == 2010) & (data['Gender'] == 'M')]\n",
    "\n",
    "top_male_names_2010 = male_names_2010.groupby('Name').sum().sort_values(by='Count', ascending=False).head(5)\n",
    "\n",
    "print(top_male_names_2010['Count'])"
   ]
  },
  {
   "cell_type": "markdown",
   "id": "07a3132f",
   "metadata": {},
   "source": [
    "## Task 8\n",
    "\n",
    "find most popular name by all years in one particular year"
   ]
  },
  {
   "cell_type": "code",
   "execution_count": 9,
   "id": "fa0bd6ae",
   "metadata": {},
   "outputs": [
    {
     "name": "stdout",
     "output_type": "stream",
     "text": [
      "Id        431053\n",
      "Name       Linda\n",
      "Year        1947\n",
      "Gender         F\n",
      "Count      99680\n",
      "Name: 431052, dtype: object\n"
     ]
    }
   ],
   "source": [
    "most_popular_name_overall = data.loc[data['Count'].idxmax()]\n",
    "print(most_popular_name_overall)"
   ]
  },
  {
   "cell_type": "markdown",
   "id": "d76ddfe5",
   "metadata": {},
   "source": [
    "## Task 9\n",
    "\n",
    "find the least popular name by all years in one particular year(by count)"
   ]
  },
  {
   "cell_type": "code",
   "execution_count": 10,
   "id": "21243a57",
   "metadata": {},
   "outputs": [
    {
     "name": "stdout",
     "output_type": "stream",
     "text": [
      "254615\n"
     ]
    }
   ],
   "source": [
    "min_count = data['Count'].min()\n",
    "\n",
    "num_entries_min_count = (data['Count'] == min_count).sum()\n",
    "\n",
    "print(num_entries_min_count)"
   ]
  },
  {
   "cell_type": "markdown",
   "id": "5d743c04",
   "metadata": {},
   "source": [
    "## Task 10\n",
    "\n",
    "number of unique names each year"
   ]
  },
  {
   "cell_type": "code",
   "execution_count": 11,
   "id": "058c9e13",
   "metadata": {},
   "outputs": [
    {
     "name": "stdout",
     "output_type": "stream",
     "text": [
      "Year\n",
      "1880     1889\n",
      "1881     1830\n",
      "1882     2012\n",
      "1883     1962\n",
      "1884     2158\n",
      "        ...  \n",
      "2010    31603\n",
      "2011    31418\n",
      "2012    31236\n",
      "2013    30774\n",
      "2014    30579\n",
      "Name: Name, Length: 135, dtype: int64\n"
     ]
    }
   ],
   "source": [
    "unique_names_per_year = data.groupby('Year')['Name'].nunique()\n",
    "\n",
    "print(unique_names_per_year)"
   ]
  },
  {
   "cell_type": "markdown",
   "id": "548b22ae",
   "metadata": {},
   "source": [
    "## Task 11\n",
    "\n",
    "year with the max unique names"
   ]
  },
  {
   "cell_type": "code",
   "execution_count": 12,
   "id": "f140f567",
   "metadata": {},
   "outputs": [
    {
     "name": "stdout",
     "output_type": "stream",
     "text": [
      "2008\n",
      "32488\n"
     ]
    }
   ],
   "source": [
    "print(unique_names_per_year.idxmax())\n",
    "print(unique_names_per_year.max())"
   ]
  },
  {
   "cell_type": "markdown",
   "id": "1ccddac8",
   "metadata": {},
   "source": [
    "## Task 12\n",
    "\n",
    "most popular name in a year with the most unique names"
   ]
  },
  {
   "cell_type": "code",
   "execution_count": 13,
   "id": "9dae7c02",
   "metadata": {},
   "outputs": [
    {
     "data": {
      "text/plain": [
       "'Jacob'"
      ]
     },
     "execution_count": 13,
     "metadata": {},
     "output_type": "execute_result"
    }
   ],
   "source": [
    "year_with_most_unique_names = data.groupby('Year')['Name'].nunique().idxmax()\n",
    "\n",
    "data_in_year = data[data['Year'] == year_with_most_unique_names]\n",
    "most_popular_name = data_in_year.loc[data_in_year['Count'].idxmax(), 'Name']\n",
    "\n",
    "most_popular_name"
   ]
  },
  {
   "cell_type": "markdown",
   "id": "e721613e",
   "metadata": {},
   "source": [
    "## Task 13\n",
    "\n",
    "year when the most popular name was the most popular women's name"
   ]
  },
  {
   "cell_type": "code",
   "execution_count": 14,
   "id": "fb659bca",
   "metadata": {},
   "outputs": [
    {
     "data": {
      "text/plain": [
       "2004"
      ]
     },
     "execution_count": 14,
     "metadata": {},
     "output_type": "execute_result"
    }
   ],
   "source": [
    "filtered_data = data[(data['Name'] == most_popular_name) & (data['Gender'] == 'F')]\n",
    "\n",
    "yearly_counts = filtered_data.groupby('Year')['Count'].sum()\n",
    "year_most_popular_female = yearly_counts.idxmax()\n",
    "\n",
    "year_most_popular_female"
   ]
  },
  {
   "cell_type": "markdown",
   "id": "c1e719e2",
   "metadata": {},
   "source": [
    "## Task 14\n",
    "\n",
    "find a year with the most gender neutral names"
   ]
  },
  {
   "cell_type": "code",
   "execution_count": 16,
   "id": "b1adfc90",
   "metadata": {},
   "outputs": [
    {
     "data": {
      "text/plain": [
       "2008"
      ]
     },
     "execution_count": 16,
     "metadata": {},
     "output_type": "execute_result"
    }
   ],
   "source": [
    "gender_data = data.pivot_table(index=['Year', 'Name'], columns='Gender', values='Count', aggfunc='sum').reset_index()\n",
    "\n",
    "gender_neutral_names = gender_data.dropna(subset=['F', 'M'])\n",
    "gender_neutral_names_per_year = gender_neutral_names.groupby('Year').size()\n",
    "year_with_most_gender_neutral_names = gender_neutral_names_per_year.idxmax()\n",
    "\n",
    "year_with_most_gender_neutral_names"
   ]
  },
  {
   "cell_type": "markdown",
   "id": "0d18cc24",
   "metadata": {},
   "source": [
    "## Task 15\n",
    "\n",
    "number of births per year"
   ]
  },
  {
   "cell_type": "code",
   "execution_count": 17,
   "id": "03d264f7",
   "metadata": {},
   "outputs": [
    {
     "name": "stdout",
     "output_type": "stream",
     "text": [
      "Year\n",
      "1880     201484\n",
      "1881     192699\n",
      "1882     221538\n",
      "1883     216950\n",
      "1884     243467\n",
      "         ...   \n",
      "2010    3686589\n",
      "2011    3646730\n",
      "2012    3643336\n",
      "2013    3626802\n",
      "2014    3670151\n",
      "Name: Count, Length: 135, dtype: int64\n"
     ]
    }
   ],
   "source": [
    "births_per_year = data.groupby('Year')['Count'].sum()\n",
    "\n",
    "print(births_per_year)"
   ]
  },
  {
   "cell_type": "markdown",
   "id": "cd30b895",
   "metadata": {},
   "source": [
    "## Task 16\n",
    "\n",
    "year where the most children were born"
   ]
  },
  {
   "cell_type": "code",
   "execution_count": 19,
   "id": "ec9006f9",
   "metadata": {},
   "outputs": [
    {
     "name": "stdout",
     "output_type": "stream",
     "text": [
      "1957\n"
     ]
    }
   ],
   "source": [
    "print(births_per_year.idxmax())"
   ]
  },
  {
   "cell_type": "markdown",
   "id": "381a6f24",
   "metadata": {},
   "source": [
    "## Task 17\n",
    "\n",
    "number of births per year per gender"
   ]
  },
  {
   "cell_type": "code",
   "execution_count": 20,
   "id": "8253a25f",
   "metadata": {},
   "outputs": [
    {
     "name": "stdout",
     "output_type": "stream",
     "text": [
      "Year  Gender\n",
      "1880  F           90993\n",
      "      M          110491\n",
      "1881  F           91954\n",
      "      M          100745\n",
      "1882  F          107850\n",
      "                 ...   \n",
      "2012  M         1889414\n",
      "2013  F         1745339\n",
      "      M         1881463\n",
      "2014  F         1768775\n",
      "      M         1901376\n",
      "Name: Count, Length: 270, dtype: int64\n"
     ]
    }
   ],
   "source": [
    "births_per_year_gender = data.groupby(['Year', 'Gender'])['Count'].sum()\n",
    "\n",
    "print(births_per_year_gender)"
   ]
  },
  {
   "cell_type": "markdown",
   "id": "24d32dba",
   "metadata": {},
   "source": [
    "## Task 18\n",
    "\n",
    "number of years where there were more girls born than boys"
   ]
  },
  {
   "cell_type": "code",
   "execution_count": 21,
   "id": "dfe8eeb2",
   "metadata": {},
   "outputs": [
    {
     "data": {
      "text/plain": [
       "54"
      ]
     },
     "execution_count": 21,
     "metadata": {},
     "output_type": "execute_result"
    }
   ],
   "source": [
    "births_per_year_gender = data.groupby(['Year', 'Gender'])['Count'].sum().unstack()\n",
    "\n",
    "num_years_more_girls = (births_per_year_gender['F'] > births_per_year_gender['M']).sum()\n",
    "\n",
    "num_years_more_girls"
   ]
  },
  {
   "cell_type": "markdown",
   "id": "67f5e55e",
   "metadata": {},
   "source": [
    "## Task 19\n",
    "\n",
    "plot birthes per year by gender"
   ]
  },
  {
   "cell_type": "code",
   "execution_count": 22,
   "id": "fe7dd285",
   "metadata": {},
   "outputs": [
    {
     "data": {
      "text/plain": [
       "<Figure size 1000x600 with 0 Axes>"
      ]
     },
     "metadata": {},
     "output_type": "display_data"
    },
    {
     "data": {
      "image/png": "[encoded data removed]",
      "text/plain": [
       "<Figure size 640x480 with 1 Axes>"
      ]
     },
     "metadata": {},
     "output_type": "display_data"
    }
   ],
   "source": [
    "import matplotlib.pyplot as plt\n",
    "\n",
    "births_per_year_gender = data.groupby(['Year', 'Gender'])['Count'].sum().unstack()\n",
    "\n",
    "plt.figure(figsize=(10, 6))\n",
    "births_per_year_gender.plot(kind='line', marker='o')\n",
    "plt.title('Number of Births by Year and Gender')\n",
    "plt.xlabel('Year')\n",
    "plt.ylabel('Number of Births')\n",
    "plt.grid(True)\n",
    "plt.legend(['Female', 'Male'])\n",
    "plt.show()"
   ]
  },
  {
   "cell_type": "markdown",
   "id": "8abd2c90",
   "metadata": {},
   "source": [
    "## Task 20\n",
    "\n",
    "number of gender neutral names by all years"
   ]
  },
  {
   "cell_type": "code",
   "execution_count": 23,
   "id": "7d87ce09",
   "metadata": {},
   "outputs": [
    {
     "data": {
      "text/plain": [
       "10221"
      ]
     },
     "execution_count": 23,
     "metadata": {},
     "output_type": "execute_result"
    }
   ],
   "source": [
    "female_names = data[data['Gender'] == 'F']['Name'].unique()\n",
    "male_names = data[data['Gender'] == 'M']['Name'].unique()\n",
    "\n",
    "gender_neutral_names = np.intersect1d(female_names, male_names)\n",
    "\n",
    "num_gender_neutral_names = len(gender_neutral_names)\n",
    "\n",
    "num_gender_neutral_names"
   ]
  },
  {
   "cell_type": "markdown",
   "id": "ba82dcb8",
   "metadata": {},
   "source": [
    "## Task 21\n",
    "\n",
    "number of events when the boy was called 'Barbara'"
   ]
  },
  {
   "cell_type": "code",
   "execution_count": 24,
   "id": "fc01d109",
   "metadata": {},
   "outputs": [
    {
     "data": {
      "text/plain": [
       "4139"
      ]
     },
     "execution_count": 24,
     "metadata": {},
     "output_type": "execute_result"
    }
   ],
   "source": [
    "barbara_boys = data[(data['Name'] == 'Barbara') & (data['Gender'] == 'M')]\n",
    "num_barbara_boys = barbara_boys['Count'].sum()\n",
    "\n",
    "num_barbara_boys"
   ]
  },
  {
   "cell_type": "markdown",
   "id": "4bac059d",
   "metadata": {},
   "source": [
    "## Task 22\n",
    "\n",
    "For how long was the data being collected"
   ]
  },
  {
   "cell_type": "code",
   "execution_count": 25,
   "id": "679f59cc",
   "metadata": {},
   "outputs": [
    {
     "data": {
      "text/plain": [
       "134"
      ]
     },
     "execution_count": 25,
     "metadata": {},
     "output_type": "execute_result"
    }
   ],
   "source": [
    "earliest_year = data['Year'].min()\n",
    "latest_year = data['Year'].max()\n",
    "\n",
    "duration_years = latest_year - earliest_year\n",
    "\n",
    "duration_years"
   ]
  },
  {
   "cell_type": "markdown",
   "id": "12a31869",
   "metadata": {},
   "source": [
    "## Task 23\n",
    "\n",
    "most popular gender neutral names"
   ]
  },
  {
   "cell_type": "code",
   "execution_count": 27,
   "id": "f88b2de1",
   "metadata": {},
   "outputs": [
    {
     "data": {
      "text/plain": [
       "Name\n",
       "James      5129096\n",
       "John       5106590\n",
       "Robert     4816785\n",
       "Michael    4330805\n",
       "Mary       4130441\n",
       "Name: Count, dtype: int64"
      ]
     },
     "execution_count": 27,
     "metadata": {},
     "output_type": "execute_result"
    }
   ],
   "source": [
    "gender_neutral_names = data.groupby('Name').filter(lambda x: len(x['Gender'].unique()) > 1)\n",
    "\n",
    "popular_gender_neutral_names = gender_neutral_names.groupby('Name')['Count'].sum()\n",
    "popular_gender_neutral_names_sorted = popular_gender_neutral_names.sort_values(ascending=False)\n",
    "\n",
    "popular_gender_neutral_names_sorted.head()"
   ]
  },
  {
   "cell_type": "markdown",
   "id": "f7f51b29",
   "metadata": {},
   "source": [
    "## Task 24\n",
    "\n",
    "the least popular name"
   ]
  },
  {
   "cell_type": "code",
   "execution_count": 28,
   "id": "b5df4dd1",
   "metadata": {},
   "outputs": [
    {
     "data": {
      "text/plain": [
       "('Aabid', 5)"
      ]
     },
     "execution_count": 28,
     "metadata": {},
     "output_type": "execute_result"
    }
   ],
   "source": [
    "total_counts_per_name = data.groupby('Name')['Count'].sum()\n",
    "\n",
    "least_popular_name = total_counts_per_name.idxmin()\n",
    "least_popular_count = total_counts_per_name.min()\n",
    "\n",
    "(least_popular_name, least_popular_count)"
   ]
  },
  {
   "cell_type": "markdown",
   "id": "b12720a3",
   "metadata": {},
   "source": [
    "## Task 25\n",
    "\n",
    "plot 'John' and 'Mary' number of names by year without bounding to gender"
   ]
  },
  {
   "cell_type": "code",
   "execution_count": 29,
   "id": "c8d01ec0",
   "metadata": {},
   "outputs": [
    {
     "data": {
      "text/plain": [
       "<Figure size 1200x600 with 0 Axes>"
      ]
     },
     "metadata": {},
     "output_type": "display_data"
    },
    {
     "data": {
      "image/png": "[encoded data removed]",
      "text/plain": [
       "<Figure size 640x480 with 1 Axes>"
      ]
     },
     "metadata": {},
     "output_type": "display_data"
    }
   ],
   "source": [
    "john_mary_data = data[data['Name'].isin(['John', 'Mary'])]\n",
    "\n",
    "john_mary_yearly = john_mary_data.groupby(['Year', 'Name'])['Count'].sum().unstack()\n",
    "\n",
    "plt.figure(figsize=(12, 6))\n",
    "john_mary_yearly.plot(kind='line')\n",
    "plt.title('Number of Names by Year for John and Mary')\n",
    "plt.xlabel('Year')\n",
    "plt.ylabel('Number of Births')\n",
    "plt.legend(['John', 'Mary'])\n",
    "plt.grid(True)\n",
    "plt.show()"
   ]
  },
  {
   "cell_type": "markdown",
   "id": "b49164ed",
   "metadata": {},
   "source": [
    "## Task 26\n",
    "\n",
    "plot female 'John' and male 'Mary' number of names by year"
   ]
  },
  {
   "cell_type": "code",
   "execution_count": 30,
   "id": "f9fa47c2",
   "metadata": {},
   "outputs": [
    {
     "data": {
      "image/png": "[encoded data removed]",
      "text/plain": [
       "<Figure size 1200x600 with 1 Axes>"
      ]
     },
     "metadata": {},
     "output_type": "display_data"
    }
   ],
   "source": [
    "female_john = data[(data['Name'] == 'John') & (data['Gender'] == 'F')]\n",
    "male_mary = data[(data['Name'] == 'Mary') & (data['Gender'] == 'M')]\n",
    "\n",
    "female_john_yearly = female_john.groupby('Year')['Count'].sum()\n",
    "male_mary_yearly = male_mary.groupby('Year')['Count'].sum()\n",
    "\n",
    "plt.figure(figsize=(12, 6))\n",
    "plt.plot(female_john_yearly, label='Female John')\n",
    "plt.plot(male_mary_yearly, label='Male Mary')\n",
    "plt.title('Number of Names by Year for Female \"John\" and Male \"Mary\"')\n",
    "plt.xlabel('Year')\n",
    "plt.ylabel('Number of Births')\n",
    "plt.legend()\n",
    "plt.grid(True)\n",
    "plt.show()"
   ]
  },
  {
   "cell_type": "markdown",
   "id": "a8a591cd",
   "metadata": {},
   "source": [
    "## Task 27\n",
    "\n",
    "find most popular name at each year"
   ]
  },
  {
   "cell_type": "code",
   "execution_count": 31,
   "id": "0aae00c5",
   "metadata": {},
   "outputs": [
    {
     "data": {
      "text/html": [
       "<div>\n",
       "<style scoped>\n",
       "    .dataframe tbody tr th:only-of-type {\n",
       "        vertical-align: middle;\n",
       "    }\n",
       "\n",
       "    .dataframe tbody tr th {\n",
       "        vertical-align: top;\n",
       "    }\n",
       "\n",
       "    .dataframe thead th {\n",
       "        text-align: right;\n",
       "    }\n",
       "</style>\n",
       "<table border=\"1\" class=\"dataframe\">\n",
       "  <thead>\n",
       "    <tr style=\"text-align: right;\">\n",
       "      <th></th>\n",
       "      <th>Year</th>\n",
       "      <th>Name</th>\n",
       "      <th>Count</th>\n",
       "    </tr>\n",
       "  </thead>\n",
       "  <tbody>\n",
       "    <tr>\n",
       "      <th>955</th>\n",
       "      <td>1880</td>\n",
       "      <td>John</td>\n",
       "      <td>9701</td>\n",
       "    </tr>\n",
       "    <tr>\n",
       "      <th>2818</th>\n",
       "      <td>1881</td>\n",
       "      <td>John</td>\n",
       "      <td>8795</td>\n",
       "    </tr>\n",
       "    <tr>\n",
       "      <th>4735</th>\n",
       "      <td>1882</td>\n",
       "      <td>John</td>\n",
       "      <td>9597</td>\n",
       "    </tr>\n",
       "    <tr>\n",
       "      <th>6727</th>\n",
       "      <td>1883</td>\n",
       "      <td>John</td>\n",
       "      <td>8934</td>\n",
       "    </tr>\n",
       "    <tr>\n",
       "      <th>8775</th>\n",
       "      <td>1884</td>\n",
       "      <td>John</td>\n",
       "      <td>9428</td>\n",
       "    </tr>\n",
       "    <tr>\n",
       "      <th>...</th>\n",
       "      <td>...</td>\n",
       "      <td>...</td>\n",
       "      <td>...</td>\n",
       "    </tr>\n",
       "    <tr>\n",
       "      <th>1521288</th>\n",
       "      <td>2010</td>\n",
       "      <td>Isabella</td>\n",
       "      <td>22913</td>\n",
       "    </tr>\n",
       "    <tr>\n",
       "      <th>1568092</th>\n",
       "      <td>2011</td>\n",
       "      <td>Sophia</td>\n",
       "      <td>21839</td>\n",
       "    </tr>\n",
       "    <tr>\n",
       "      <th>1599369</th>\n",
       "      <td>2012</td>\n",
       "      <td>Sophia</td>\n",
       "      <td>22285</td>\n",
       "    </tr>\n",
       "    <tr>\n",
       "      <th>1630271</th>\n",
       "      <td>2013</td>\n",
       "      <td>Sophia</td>\n",
       "      <td>21172</td>\n",
       "    </tr>\n",
       "    <tr>\n",
       "      <th>1643629</th>\n",
       "      <td>2014</td>\n",
       "      <td>Emma</td>\n",
       "      <td>20811</td>\n",
       "    </tr>\n",
       "  </tbody>\n",
       "</table>\n",
       "<p>135 rows × 3 columns</p>\n",
       "</div>"
      ],
      "text/plain": [
       "         Year      Name  Count\n",
       "955      1880      John   9701\n",
       "2818     1881      John   8795\n",
       "4735     1882      John   9597\n",
       "6727     1883      John   8934\n",
       "8775     1884      John   9428\n",
       "...       ...       ...    ...\n",
       "1521288  2010  Isabella  22913\n",
       "1568092  2011    Sophia  21839\n",
       "1599369  2012    Sophia  22285\n",
       "1630271  2013    Sophia  21172\n",
       "1643629  2014      Emma  20811\n",
       "\n",
       "[135 rows x 3 columns]"
      ]
     },
     "execution_count": 31,
     "metadata": {},
     "output_type": "execute_result"
    }
   ],
   "source": [
    "name_counts_per_year = data.groupby(['Year', 'Name'])['Count'].sum().reset_index()\n",
    "\n",
    "most_popular_name_per_year = name_counts_per_year.loc[name_counts_per_year.groupby('Year')['Count'].idxmax()]\n",
    "\n",
    "most_popular_name_per_year"
   ]
  }
 ],
 "metadata": {
  "kernelspec": {
   "display_name": "Python 3 (ipykernel)",
   "language": "python",
   "name": "python3"
  },
  "language_info": {
   "codemirror_mode": {
    "name": "ipython",
    "version": 3
   },
   "file_extension": ".py",
   "mimetype": "text/x-python",
   "name": "python",
   "nbconvert_exporter": "python",
   "pygments_lexer": "ipython3",
   "version": "3.11.5"
  }
 },
 "nbformat": 4,
 "nbformat_minor": 5
}
