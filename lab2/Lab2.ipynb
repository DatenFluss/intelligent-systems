{
 "cells": [
  {
   "cell_type": "markdown",
   "id": "61604c61",
   "metadata": {},
   "source": [
    "## Task 10.1"
   ]
  },
  {
   "cell_type": "markdown",
   "id": "6b05f5e0",
   "metadata": {},
   "source": [
    "## Part 1 - solve with numpy functions"
   ]
  },
  {
   "cell_type": "code",
   "execution_count": 27,
   "id": "2b95aa22",
   "metadata": {
    "scrolled": true
   },
   "outputs": [
    {
     "name": "stdout",
     "output_type": "stream",
     "text": [
      "[ 1.67767035e-16 -9.32587341e-16 -1.12996032e-15 -1.00000000e+00]\n",
      "0.0021729469299316406\n"
     ]
    }
   ],
   "source": [
    "import numpy as np\n",
    "import time\n",
    "\n",
    "start_time = time.time()\n",
    "A = np.array([[4, 1, -2, 9], [1, -3, 4, -7], [3, -2, 4, -12], [1, 2, 4, -12]])\n",
    "b = np.array([-9, 7, 12, 12])\n",
    "\n",
    "numpy_solution = np.linalg.solve(A, b)\n",
    "\n",
    "print(numpy_solution)\n",
    "print(time.time() - start_time)"
   ]
  },
  {
   "cell_type": "markdown",
   "id": "9cf2ee9c",
   "metadata": {},
   "source": [
    "## Part 2 - solve with Gaussian elimination\n"
   ]
  },
  {
   "cell_type": "code",
   "execution_count": 30,
   "id": "7b89be33",
   "metadata": {},
   "outputs": [
    {
     "name": "stdout",
     "output_type": "stream",
     "text": [
      "[0.0, 0.0, 0.0, -1.0]\n",
      "0.0011019706726074219\n"
     ]
    }
   ],
   "source": [
    "start_time = time.time()\n",
    "A = [[4, 1, -2, 9], [1, -3, 4, -7], [3, -2, 4, -12], [1, 2, 4, -12]]\n",
    "b = [-9, 7, 12, 12]\n",
    "\n",
    "n = len(A)\n",
    "\n",
    "# Convert to augmented matrix\n",
    "for i in range(n):\n",
    "    A[i].append(b[i])\n",
    "\n",
    "# Gaussian elimination\n",
    "for i in range(n):\n",
    "    # Pivot for column\n",
    "    max_row = max(range(i, n), key=lambda r: abs(A[r][i]))\n",
    "    A[i], A[max_row] = A[max_row], A[i]\n",
    "\n",
    "    # Make diagonal element 1\n",
    "    pivot = A[i][i]\n",
    "    for j in range(i, n + 1):\n",
    "        A[i][j] /= pivot\n",
    "\n",
    "    # Eliminate column\n",
    "    for k in range(i + 1, n):\n",
    "        factor = A[k][i]\n",
    "        for j in range(i, n + 1):\n",
    "            A[k][j] -= factor * A[i][j]\n",
    "\n",
    "# Back substitution\n",
    "x = [0] * n\n",
    "for i in range(n - 1, -1, -1):\n",
    "    x[i] = A[i][-1] - sum(A[i][j] * x[j] for j in range(i + 1, n))\n",
    "\n",
    "    \n",
    "print(x)\n",
    "print(time.time() - start_time)"
   ]
  },
  {
   "cell_type": "markdown",
   "id": "d5faf9c0",
   "metadata": {},
   "source": [
    "## Part 3 - solve with Cramer's rule"
   ]
  },
  {
   "cell_type": "code",
   "execution_count": 31,
   "id": "65636e92",
   "metadata": {},
   "outputs": [
    {
     "name": "stdout",
     "output_type": "stream",
     "text": [
      "[-0.0, -0.0, -0.0, -1.0]\n",
      "0.001300811767578125\n"
     ]
    }
   ],
   "source": [
    "start_time = time.time()\n",
    "def determinant(matrix):\n",
    "    # Base case: if matrix is 2x2\n",
    "    if len(matrix) == 2:\n",
    "        return matrix[0][0] * matrix[1][1] - matrix[0][1] * matrix[1][0]\n",
    "\n",
    "    # Recursive case: expansion by the first row\n",
    "    det = 0\n",
    "    for c in range(len(matrix)):\n",
    "        minor = [row[:c] + row[c + 1:] for row in matrix[1:]]\n",
    "        det += ((-1) ** c) * matrix[0][c] * determinant(minor)\n",
    "    return det\n",
    "\n",
    "original_matrix = [[4, 1, -2, 9], [1, -3, 4, -7], [3, -2, 4, -12], [1, 2, 4, -12]]\n",
    "rhs_vector = [-9, 7, 12, 12]\n",
    "\n",
    "det_original = determinant(original_matrix)\n",
    "\n",
    "if det_original == 0:\n",
    "    raise ValueError(\"The system does not have a unique solution.\")\n",
    "\n",
    "# Cramer's rule\n",
    "solutions = []\n",
    "for i in range(4):\n",
    "    modified_matrix = [row[:i] + [rhs_vector[j]] + row[i + 1:] for j, row in enumerate(original_matrix)]\n",
    "    solutions.append(determinant(modified_matrix) / det_original)\n",
    "\n",
    "print(solutions)\n",
    "print(time.time() - start_time)"
   ]
  },
  {
   "cell_type": "markdown",
   "id": "8009cbef",
   "metadata": {},
   "source": [
    "## Part 4 - compare solutions with numpy.allclose()"
   ]
  },
  {
   "cell_type": "code",
   "execution_count": 19,
   "id": "5ab9254d",
   "metadata": {},
   "outputs": [
    {
     "name": "stdout",
     "output_type": "stream",
     "text": [
      "True\n",
      "True\n",
      "True\n"
     ]
    }
   ],
   "source": [
    "comparison_result_1 = np.allclose(numpy_solution, x)\n",
    "comparison_result_2 = np.allclose(numpy_solution, solutions)\n",
    "comparison_result_3 = np.allclose(solutions, x)\n",
    "print(comparison_result_1)\n",
    "print(comparison_result_2)\n",
    "print(comparison_result_3)"
   ]
  },
  {
   "cell_type": "markdown",
   "id": "8a3b1326",
   "metadata": {},
   "source": [
    "## Task 10.2"
   ]
  },
  {
   "cell_type": "markdown",
   "id": "da5caff9",
   "metadata": {},
   "source": [
    "## Part 1 - calculate matrix with numpy"
   ]
  },
  {
   "cell_type": "code",
   "execution_count": 32,
   "id": "7c5e9fae",
   "metadata": {},
   "outputs": [
    {
     "name": "stdout",
     "output_type": "stream",
     "text": [
      "[[ 138   88   68]\n",
      " [-154 -100  -78]\n",
      " [ -14  -16  -12]]\n",
      "0.001528024673461914\n"
     ]
    }
   ],
   "source": [
    "start_time = time.time()\n",
    "A = np.array([[7, 2, 0], [-7, -2, 1], [1, 1, 0]])\n",
    "B = np.array([[0, 2, 3], [1, 0, -2], [3, 1, 1]])\n",
    "\n",
    "A_squared = np.matmul(A, A)\n",
    "B_squared = np.matmul(B, B)\n",
    "\n",
    "difference = A_squared - B_squared\n",
    "sum_ab = A + B\n",
    "\n",
    "numpy_result = np.matmul(difference, sum_ab)\n",
    "print(numpy_result)\n",
    "print(time.time() - start_time)"
   ]
  },
  {
   "cell_type": "markdown",
   "id": "f5a21664",
   "metadata": {},
   "source": [
    "## Part 2 - calculate without numpy"
   ]
  },
  {
   "cell_type": "code",
   "execution_count": 34,
   "id": "2e00a72a",
   "metadata": {},
   "outputs": [
    {
     "name": "stdout",
     "output_type": "stream",
     "text": [
      "[[138, 88, 68], [-154, -100, -78], [-14, -16, -12]]\n",
      "0.0008919239044189453\n"
     ]
    }
   ],
   "source": [
    "start_time = time.time()\n",
    "A = [[7, 2, 0], [-7, -2, 1], [1, 1, 0]]\n",
    "B = [[0, 2, 3], [1, 0, -2], [3, 1, 1]]\n",
    "\n",
    "def matrix_multiply(X, Y):\n",
    "    result = [[sum(a * b for a, b in zip(X_row, Y_col)) for Y_col in zip(*Y)] for X_row in X]\n",
    "    return result\n",
    "\n",
    "def matrix_add(X, Y):\n",
    "    return [[X[i][j] + Y[i][j] for j in range(len(X[0]))] for i in range(len(X))]\n",
    "\n",
    "def matrix_subtract(X, Y):\n",
    "    return [[X[i][j] - Y[i][j] for j in range(len(X[0]))] for i in range(len(X))]\n",
    "\n",
    "A_squared = matrix_multiply(A, A)\n",
    "B_squared = matrix_multiply(B, B)\n",
    "\n",
    "difference = matrix_subtract(A_squared, B_squared)\n",
    "sum_ab = matrix_add(A, B)\n",
    "\n",
    "result = matrix_multiply(difference, sum_ab)\n",
    "print(result)\n",
    "print(time.time() - start_time)"
   ]
  },
  {
   "cell_type": "markdown",
   "id": "fe0c0664",
   "metadata": {},
   "source": [
    "## Part 4 - compare solutions with numpy.allclose()"
   ]
  },
  {
   "cell_type": "code",
   "execution_count": 25,
   "id": "06edf3f1",
   "metadata": {},
   "outputs": [
    {
     "name": "stdout",
     "output_type": "stream",
     "text": [
      "True\n"
     ]
    }
   ],
   "source": [
    "print(np.allclose(result, numpy_result))"
   ]
  }
 ],
 "metadata": {
  "kernelspec": {
   "display_name": "Python 3 (ipykernel)",
   "language": "python",
   "name": "python3"
  },
  "language_info": {
   "codemirror_mode": {
    "name": "ipython",
    "version": 3
   },
   "file_extension": ".py",
   "mimetype": "text/x-python",
   "name": "python",
   "nbconvert_exporter": "python",
   "pygments_lexer": "ipython3",
   "version": "3.11.5"
  }
 },
 "nbformat": 4,
 "nbformat_minor": 5
}
