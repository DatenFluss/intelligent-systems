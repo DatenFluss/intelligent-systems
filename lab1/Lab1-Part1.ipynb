{
 "cells": [
  {
   "cell_type": "markdown",
   "id": "80faa975",
   "metadata": {},
   "source": [
    "# Norway\n",
    "\n",
    "## Overview\n",
    "\n",
    "- **Area**: 385,207 square kilometers\n",
    "- **Population**: Approximately 5.4 million\n",
    "- **Government System**: Unitary parliamentary constitutional monarchy\n",
    "\n",
    "Norway, known for its intricate fjord coastline, northern lights, and mountains, is a beacon of natural beauty and Viking history.\n",
    "\n",
    "### Notable Personalities\n",
    "\n",
    "1. **Edvard Grieg** - *Composer*\n",
    "2. **Henrik Ibsen** - *Playwright, Theatre Director*\n",
    "3. **Magnus Carlsen** - **World Chess Champion**\n",
    "\n",
    "### Cultural and Natural Landmarks\n",
    "\n",
    "- **Bryggen** - The old wharf of Bergen, famous for its colorful wooden houses.\n",
    "- **Geirangerfjord** - Known for its deep blue waters surrounded by majestic cliffs.\n",
    "\n",
    "### Useful Links\n",
    "\n",
    "- [Visit Norway](https://www.visitnorway.com)\n",
    "- [Norway - Wikipedia](https://en.wikipedia.org/wiki/Norway)\n",
    "\n",
    "### Images of Norway\n",
    "\n",
    "![Norway Fjord](https://cdn.pixabay.com/photo/2019/11/09/17/36/fjord-4614096_1280.jpg)\n",
    "*Norwegian fjord.*\n",
    "\n",
    "## Detailed Information\n",
    "\n",
    "### Government and Politics\n",
    "\n",
    "Norway operates under a **unitary parliamentary constitutional monarchy**. The current monarch is King Harald V, who has been in power since 1991. The country is known for its high level of human development, a robust welfare system, and a competitive mixed economy.\n",
    "\n",
    "### Economy\n",
    "\n",
    "Norway has a highly developed economy with a vibrant private sector and a substantial safety net. Key sectors include oil and gas, shipping, seafood, and tourism.\n",
    "\n",
    "#### Table of Economic Indicators\n",
    "\n",
    "| Indicator | Value |\n",
    "|-----------|-------|\n",
    "| GDP (PPP) | $400 billion |\n",
    "| GDP per capita | $75,504 |\n",
    "| Unemployment Rate | 4.3% |\n",
    "\n",
    "**Note:** _Economic data is subject to change and reflects estimates as of this writing._\n",
    "\n",
    "### Culture\n",
    "\n",
    "Norwegian culture is deeply rooted in the country's history and geography. From the Viking Age to modern times, Norway has a rich cultural tapestry that includes literature, music, and traditions such as the *Norwegian Constitution Day*.\n",
    "\n",
    "- **Music**: A blend of traditional Norwegian folk music with modern influences.\n",
    "- **Literature**: Rich storytelling traditions, with notable authors like Henrik Ibsen and Jo Nesbø.\n",
    "\n",
    "<div style=\"border:1px solid; padding:10px;\">\n",
    "  <strong>Explore Norway:</strong> A land of natural beauty, rich history, and vibrant culture.\n",
    "</div>\n",
    "\n"
   ]
  },
  {
   "cell_type": "code",
   "execution_count": 1,
   "id": "8841d6dc",
   "metadata": {},
   "outputs": [
    {
     "data": {
      "text/html": [
       "<style></style>\n",
       "<div style=\"width: 220px; height: 160px; display: flex; justify-content: center; align-items: center;\">\n",
       "    <svg viewBox=\"0 0 22 16\">\n",
       "        <!-- Background -->\n",
       "        <rect width=\"22\" height=\"16\" fill=\"#EF2B2D\"/>\n",
       "        <!-- White cross -->\n",
       "        <rect x=\"6\" width=\"4\" height=\"16\" fill=\"#FFFFFF\"/>\n",
       "        <rect y=\"6\" width=\"22\" height=\"4\" fill=\"#FFFFFF\"/>\n",
       "        <!-- Blue cross -->\n",
       "        <rect x=\"7\" width=\"2\" height=\"16\" fill=\"#00205B\"/>\n",
       "        <rect y=\"7\" width=\"22\" height=\"2\" fill=\"#00205B\"/>\n",
       "    </svg>\n",
       "</div>\n"
      ],
      "text/plain": [
       "<IPython.core.display.HTML object>"
      ]
     },
     "metadata": {},
     "output_type": "display_data"
    }
   ],
   "source": [
    "%%HTML\n",
    "<style></style>\n",
    "<div style=\"width: 220px; height: 160px; display: flex; justify-content: center; align-items: center;\">\n",
    "    <svg viewBox=\"0 0 22 16\">\n",
    "        <!-- Background -->\n",
    "        <rect width=\"22\" height=\"16\" fill=\"#EF2B2D\"/>\n",
    "        <!-- White cross -->\n",
    "        <rect x=\"6\" width=\"4\" height=\"16\" fill=\"#FFFFFF\"/>\n",
    "        <rect y=\"6\" width=\"22\" height=\"4\" fill=\"#FFFFFF\"/>\n",
    "        <!-- Blue cross -->\n",
    "        <rect x=\"7\" width=\"2\" height=\"16\" fill=\"#00205B\"/>\n",
    "        <rect y=\"7\" width=\"22\" height=\"2\" fill=\"#00205B\"/>\n",
    "    </svg>\n",
    "</div>"
   ]
  },
  {
   "cell_type": "code",
   "execution_count": null,
   "id": "c37ba186",
   "metadata": {},
   "outputs": [],
   "source": []
  }
 ],
 "metadata": {
  "kernelspec": {
   "display_name": "Python 3 (ipykernel)",
   "language": "python",
   "name": "python3"
  },
  "language_info": {
   "codemirror_mode": {
    "name": "ipython",
    "version": 3
   },
   "file_extension": ".py",
   "mimetype": "text/x-python",
   "name": "python",
   "nbconvert_exporter": "python",
   "pygments_lexer": "ipython3",
   "version": "3.11.5"
  }
 },
 "nbformat": 4,
 "nbformat_minor": 5
}
