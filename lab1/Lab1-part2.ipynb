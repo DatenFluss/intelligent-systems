{
 "cells": [
  {
   "cell_type": "markdown",
   "id": "438a94c9",
   "metadata": {},
   "source": [
    "# Task\n",
    "\n",
    "- Implement an algorithm to determine if the entered number N is the sum of the squares of two natural numbers. That is, to find such integers A and B that A^2 + B^2 = N. If such numbers do not exist, display the corresponding message."
   ]
  },
  {
   "cell_type": "markdown",
   "id": "e90683ed",
   "metadata": {},
   "source": [
    "## Solution 1: primitive"
   ]
  },
  {
   "cell_type": "code",
   "execution_count": 1,
   "id": "52dc1418",
   "metadata": {},
   "outputs": [
    {
     "name": "stdout",
     "output_type": "stream",
     "text": [
      "No natural numbers A and B exist such that A^2 + B^2 = 21.\n"
     ]
    }
   ],
   "source": [
    "import math\n",
    "\n",
    "def find_squares(N):\n",
    "    # Upper limit for the search, since A^2 or B^2 cannot be greater than N\n",
    "    limit = int(math.sqrt(N)) + 1\n",
    "    for A in range(limit):\n",
    "        for B in range(A, limit):  # Start from A to avoid duplications\n",
    "            if A**2 + B**2 == N:\n",
    "                return A, B\n",
    "    return None\n",
    "\n",
    "# Example usage\n",
    "N = 21\n",
    "result = find_squares(N)\n",
    "if result:\n",
    "    A, B = result\n",
    "    print(f\"The number {N} is the sum of squares of {A} and {B}.\")\n",
    "else:\n",
    "    print(f\"No natural numbers A and B exist such that A^2 + B^2 = {N}.\")\n"
   ]
  },
  {
   "cell_type": "markdown",
   "id": "67ff127a",
   "metadata": {},
   "source": [
    "## Solution 2: implroved search strategy"
   ]
  },
  {
   "cell_type": "code",
   "execution_count": 3,
   "id": "22323759",
   "metadata": {},
   "outputs": [
    {
     "name": "stdout",
     "output_type": "stream",
     "text": [
      "The number 20 is the sum of squares of 2 and 4.\n"
     ]
    }
   ],
   "source": [
    "import math\n",
    "\n",
    "def find_squares_optimized(N):\n",
    "    for A in range(int(math.sqrt(N)) + 1):\n",
    "        B_squared = N - A**2\n",
    "        B = int(math.sqrt(B_squared))\n",
    "        if B**2 == B_squared:\n",
    "            return A, B\n",
    "    return None\n",
    "\n",
    "# Example usage\n",
    "N = 20\n",
    "result = find_squares_optimized(N)\n",
    "if result:\n",
    "    A, B = result\n",
    "    print(f\"The number {N} is the sum of squares of {A} and {B}.\")\n",
    "else:\n",
    "    print(f\"No natural numbers A and B exist such that A^2 + B^2 = {N}.\")\n"
   ]
  },
  {
   "cell_type": "code",
   "execution_count": null,
   "id": "76db38e9",
   "metadata": {},
   "outputs": [],
   "source": []
  }
 ],
 "metadata": {
  "kernelspec": {
   "display_name": "Python 3 (ipykernel)",
   "language": "python",
   "name": "python3"
  },
  "language_info": {
   "codemirror_mode": {
    "name": "ipython",
    "version": 3
   },
   "file_extension": ".py",
   "mimetype": "text/x-python",
   "name": "python",
   "nbconvert_exporter": "python",
   "pygments_lexer": "ipython3",
   "version": "3.11.5"
  }
 },
 "nbformat": 4,
 "nbformat_minor": 5
}
